{
 "cells": [
  {
   "cell_type": "code",
   "execution_count": 3,
   "id": "28e2e80e",
   "metadata": {},
   "outputs": [
    {
     "name": "stdout",
     "output_type": "stream",
     "text": [
      "Enter your percentage : 81\n",
      "Grade B\n"
     ]
    }
   ],
   "source": [
    "'''Q1) Write a program to accept percentage from the user and display the grade accordingly to the following \n",
    "criteria'''\n",
    "x = int(input(\"Enter your percentage : \"))\n",
    "if x >= 90 :\n",
    "    print('Grade A')\n",
    "elif x>80 and x<=90 :\n",
    "    print('Grade B')\n",
    "elif x>=60 and x<=80:\n",
    "    print('Grade C')\n",
    "else:\n",
    "    print('Grade D')\n",
    "    \n"
   ]
  },
  {
   "cell_type": "code",
   "execution_count": 6,
   "id": "da16b11c",
   "metadata": {},
   "outputs": [
    {
     "name": "stdout",
     "output_type": "stream",
     "text": [
      "Cost price of bike40000\n",
      "Tax is 5%\n"
     ]
    }
   ],
   "source": [
    "'''Q2) Write a program to accept a cost price of bike and display the road tax to be paid accordingly '''\n",
    "x=int(input('Cost price of bike'))\n",
    "if x >1000000 :\n",
    "    print(\"Tax is 15%\")\n",
    "elif x>50000 and x <=100000:\n",
    "    print(\"Tax is 10%\")\n",
    "else :\n",
    "    print(\"Tax is 5%\")\n",
    "    "
   ]
  },
  {
   "cell_type": "code",
   "execution_count": 13,
   "id": "0c1b80a7",
   "metadata": {},
   "outputs": [
    {
     "name": "stdout",
     "output_type": "stream",
     "text": [
      "Enter the city : delhi\n",
      "Monument : Red fort\n"
     ]
    }
   ],
   "source": [
    "'''Q3) Accept any city from the user and display the monuments of that city '''\n",
    "x= input(\"Enter the city : \")\n",
    "if x == ' Delhi ' or ' delhi ':\n",
    "    print(\"Monument : Red fort\")\n",
    "elif x == ' Agra ' or ' agra ':\n",
    "    print(\"Monument : Taj Mahal\")\n",
    "elif x == ' Jaipur' or ' jaipur':\n",
    "    print(\"Monument: Jai Mahal \")\n"
   ]
  },
  {
   "cell_type": "code",
   "execution_count": 1,
   "id": "04c0285d",
   "metadata": {},
   "outputs": [
    {
     "name": "stdout",
     "output_type": "stream",
     "text": [
      "Enter any number : 45\n",
      "2\n"
     ]
    }
   ],
   "source": [
    "'''Q4)Check how many times a given number can be divided by 3 before it is less than or equal to 10.'''\n",
    "x= int(input(\"Enter any number : \"))\n",
    "count=0\n",
    "while x >=10 :\n",
    "    x = x/3\n",
    "    count=count+1\n",
    "print(count)    "
   ]
  },
  {
   "cell_type": "code",
   "execution_count": 8,
   "id": "ddd1dcdd",
   "metadata": {},
   "outputs": [
    {
     "name": "stdout",
     "output_type": "stream",
     "text": [
      "1\n",
      "2\n",
      "3\n",
      "4\n",
      "5\n",
      "6\n"
     ]
    }
   ],
   "source": [
    "'''Q5)Why and When to Use while Loop in Python give a detailed description with example\n",
    "Ans) The while loop in Python is used to execute a block of code repeatedly until a certain condition is\n",
    "met. It is particularly useful when the number of iterations required is not known in advance, or when \n",
    "the loop needs to continue until a specific condition is met. The general syntax of a while loop in \n",
    "The condition is a Boolean expression that is evaluated before each iteration of the loop.\n",
    "If the condition is True, the code block is executed; otherwise, the loop terminates.'''\n",
    "\n",
    "#Example:\n",
    "i=1\n",
    "while i<=6:\n",
    "    print(i)\n",
    "    i=i+1\n",
    "    \n",
    "\n"
   ]
  },
  {
   "cell_type": "code",
   "execution_count": 1,
   "id": "68ec8520",
   "metadata": {},
   "outputs": [
    {
     "name": "stdout",
     "output_type": "stream",
     "text": [
      "1st\n",
      "\n",
      "Enter number of rows : 3\n",
      "* \n",
      "* * \n",
      "* * * \n",
      "\n",
      "2nd\n",
      "\n",
      "*****\n",
      "*****\n",
      "*****\n",
      "*****\n",
      "*****\n",
      "\n",
      "3rd\n",
      "\n",
      "    * \n",
      "  * * \n",
      "* * * \n"
     ]
    }
   ],
   "source": [
    "'''Q6)Use nested while loop to print 3 different pattern.'''\n",
    "#Ans) \n",
    "print(\"1st\\n\")\n",
    "n = int(input('Enter number of rows : '))\n",
    " \n",
    "i = 1\n",
    "while i <= n :\n",
    "    j = 1\n",
    "    while j <= i:\n",
    "        print(\"*\", end = \" \")\n",
    "        j += 1\n",
    "    print()\n",
    "    i += 1\n",
    "    \n",
    "print('\\n2nd\\n') \n",
    "i = 1\n",
    "while i <= 5:\n",
    "    j = 1\n",
    "    while j <= 5:\n",
    "        print(\"*\", end=\"\")\n",
    "        j += 1\n",
    "    print()\n",
    "    i += 1\n",
    "\n",
    "\n",
    "print('\\n3rd\\n')\n",
    "i = 1\n",
    "while i <= n:\n",
    "    j = i\n",
    "    while j < n:\n",
    "        print(' ', end=' ')\n",
    "        j += 1\n",
    "    k = 1\n",
    "    while k <= i:\n",
    "        print('*', end=' ')\n",
    "        k += 1\n",
    "    print()\n",
    "    i += 1\n",
    "\n",
    "    "
   ]
  },
  {
   "cell_type": "code",
   "execution_count": 3,
   "id": "e8aaa885",
   "metadata": {},
   "outputs": [
    {
     "name": "stdout",
     "output_type": "stream",
     "text": [
      "10\n",
      "9\n",
      "8\n",
      "7\n",
      "6\n",
      "5\n",
      "4\n",
      "3\n",
      "2\n",
      "1\n"
     ]
    }
   ],
   "source": [
    "''' Q7)Reverse a while loop to display no. from 10 to 1 .'''\n",
    "i=10\n",
    "while i>0:\n",
    "    print(i)\n",
    "    i=i-1\n"
   ]
  },
  {
   "cell_type": "code",
   "execution_count": null,
   "id": "de758347",
   "metadata": {},
   "outputs": [],
   "source": [
    "#Assignment End"
   ]
  },
  {
   "cell_type": "code",
   "execution_count": null,
   "id": "b8ec2cc8",
   "metadata": {},
   "outputs": [],
   "source": []
  }
 ],
 "metadata": {
  "kernelspec": {
   "display_name": "Python 3 (ipykernel)",
   "language": "python",
   "name": "python3"
  },
  "language_info": {
   "codemirror_mode": {
    "name": "ipython",
    "version": 3
   },
   "file_extension": ".py",
   "mimetype": "text/x-python",
   "name": "python",
   "nbconvert_exporter": "python",
   "pygments_lexer": "ipython3",
   "version": "3.9.13"
  }
 },
 "nbformat": 4,
 "nbformat_minor": 5
}
