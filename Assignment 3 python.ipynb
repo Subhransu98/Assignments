{
 "cells": [
  {
   "cell_type": "markdown",
   "id": "5b25c14f",
   "metadata": {},
   "source": [
    "Q1. Explain with an example each when to use a for loop and a while loop."
   ]
  },
  {
   "cell_type": "code",
   "execution_count": 5,
   "id": "7bbf6322",
   "metadata": {},
   "outputs": [
    {
     "name": "stdout",
     "output_type": "stream",
     "text": [
      "h\n",
      "e\n",
      "l\n",
      "l\n",
      "o\n",
      " \n",
      "w\n",
      "o\n",
      "r\n",
      "l\n",
      "d\n"
     ]
    }
   ],
   "source": [
    "'''Ans)we use a for loop when we know the number of times we want to execute a block of code, \n",
    "and a while loop when we don't know the number of times,but we know the condition under which we \n",
    "want to stop.'''\n",
    "\n",
    "# Print the characters in a string using a for loop\n",
    "string = \"hello world\"\n",
    "for char in string:\n",
    "    print(char)\n",
    "    \n"
   ]
  },
  {
   "cell_type": "code",
   "execution_count": 51,
   "id": "1537af23",
   "metadata": {},
   "outputs": [
    {
     "name": "stdout",
     "output_type": "stream",
     "text": [
      "1\n",
      "2\n",
      "3\n",
      "4\n",
      "5\n",
      "6\n",
      "7\n",
      "8\n",
      "9\n",
      "10\n"
     ]
    }
   ],
   "source": [
    "# Print the numbers from 1 to 10 using a while loop\n",
    "i = 1\n",
    "while i <= 10:\n",
    "    print(i)\n",
    "    i =i+1    "
   ]
  },
  {
   "cell_type": "code",
   "execution_count": null,
   "id": "8c6efbea",
   "metadata": {},
   "outputs": [],
   "source": [
    "Q2) Write a python program to print the sum and product of the first 10 natural numbers using for\n",
    "and while loop."
   ]
  },
  {
   "cell_type": "code",
   "execution_count": 4,
   "id": "3b27f35d",
   "metadata": {},
   "outputs": [
    {
     "name": "stdout",
     "output_type": "stream",
     "text": [
      "sum of the first 10 natural numbers:  55\n",
      "product of the first 10 natural numbers:  3628800\n"
     ]
    }
   ],
   "source": [
    "sum=0\n",
    "prod=1\n",
    "for i in range(1,11,1):\n",
    "    sum=sum+i\n",
    "    prod=prod*i\n",
    "print(\"sum of the first 10 natural numbers: \",sum)\n",
    "print(\"product of the first 10 natural numbers: \",prod)\n"
   ]
  },
  {
   "cell_type": "code",
   "execution_count": null,
   "id": "9ead2df8",
   "metadata": {},
   "outputs": [],
   "source": [
    "Q3.The per-unit charges in rupees are as follows: For the first 100 units, the user will be charged Rs. 4.5 per\n",
    "unit, for the next 100 units, the user will be charged Rs. 6 per unit, and for the next 100 units, the user will\n",
    "be charged Rs. 10 per unit, After 300 units and above the user will be charged Rs. 20 per unit.\n",
    "You are required to take the units of electricity consumed in a month from the user as input.\n",
    "Your program must pass this test case: when the unit of electricity consumed by the user in a month is\n",
    "310, the total electricity bill should be 2250."
   ]
  },
  {
   "cell_type": "code",
   "execution_count": 3,
   "id": "855d6001",
   "metadata": {},
   "outputs": [
    {
     "name": "stdout",
     "output_type": "stream",
     "text": [
      "Enter the units of electricity consumed : 310\n",
      "Total electricity bill of the month =  2250.0\n"
     ]
    }
   ],
   "source": [
    "#Ans)\n",
    "units_of_electricity=int(input(\"Enter the units of electricity consumed : \"))\n",
    "if units_of_electricity<=100 :\n",
    "    total_bill = unit_of_electricity * 4.5\n",
    "elif units_of_electricity <= 200 :\n",
    "    total_bill = (100*4.5) +((units_of_electricity-100)*6)\n",
    "elif units_of_electricity <= 300 :\n",
    "    total_bill = (100*4.5) +(100*6) +((units_of_electricity-200) * 10)\n",
    "else:\n",
    "    total_bill = (100*4.5) +(100*6) +(100*10) + ((units_of_electricity-300) *20)\n",
    "print(\"Total electricity bill of the month = \",total_bill)    \n",
    "                          "
   ]
  },
  {
   "cell_type": "code",
   "execution_count": null,
   "id": "c74bd5e6",
   "metadata": {},
   "outputs": [],
   "source": [
    "Q4.Create a list of numbers from 1 to 100. Use for loop and while loop to calculate the cube of each\n",
    "number and if the cube of that number is divisible by 4 or 5 then append that number in a list and print\n",
    "that list."
   ]
  },
  {
   "cell_type": "code",
   "execution_count": 6,
   "id": "cf8706b3",
   "metadata": {},
   "outputs": [
    {
     "name": "stdout",
     "output_type": "stream",
     "text": [
      "[2, 4, 5, 6, 8, 10, 12, 14, 15, 16, 18, 20, 22, 24, 25, 26, 28, 30, 32, 34, 35, 36, 38, 40, 42, 44, 45, 46, 48, 50, 52, 54, 55, 56, 58, 60, 62, 64, 65, 66, 68, 70, 72, 74, 75, 76, 78, 80, 82, 84, 85, 86, 88, 90, 92, 94, 95, 96, 98, 100]\n"
     ]
    }
   ],
   "source": [
    "#using for loop\n",
    "new_num_list=[]\n",
    "for i in range(1,101,1):\n",
    "    cube = i**3\n",
    "    if cube%4==0 or cube%5==0:\n",
    "        new_num_list.append(i)\n",
    "print(new_num_list) \n",
    "\n"
   ]
  },
  {
   "cell_type": "code",
   "execution_count": 15,
   "id": "0206422b",
   "metadata": {},
   "outputs": [
    {
     "name": "stdout",
     "output_type": "stream",
     "text": [
      "[2, 4, 5, 6, 8, 10, 12, 14, 15, 16, 18, 20, 22, 24, 25, 26, 28, 30, 32, 34, 35, 36, 38, 40, 42, 44, 45, 46, 48, 50, 52, 54, 55, 56, 58, 60, 62, 64, 65, 66, 68, 70, 72, 74, 75, 76, 78, 80, 82, 84, 85, 86, 88, 90, 92, 94, 95, 96, 98, 100]\n"
     ]
    }
   ],
   "source": [
    "#using while loop\n",
    "cubes = []\n",
    "i = 1\n",
    "\n",
    "while i <= 100:\n",
    "    cube = i ** 3\n",
    "    if cube % 4 == 0 or cube % 5 == 0:\n",
    "        cubes.append(i)\n",
    "    i += 1\n",
    "\n",
    "print(cubes)"
   ]
  },
  {
   "cell_type": "code",
   "execution_count": null,
   "id": "c4d2036b",
   "metadata": {},
   "outputs": [],
   "source": [
    "Q5.Write a program to filter count vowels in the below-given string.\n",
    "string = \"I want to become a data scientist\""
   ]
  },
  {
   "cell_type": "code",
   "execution_count": 6,
   "id": "e6e47c82",
   "metadata": {},
   "outputs": [
    {
     "name": "stdout",
     "output_type": "stream",
     "text": [
      "The number of vowels in the string is: 12\n"
     ]
    }
   ],
   "source": [
    "#Ans) \n",
    "string = \"I want to become a data scientist\"\n",
    "\n",
    "vowels = \"aeiouAEIOU\"  # Define all vowels in both uppercase and lowercase\n",
    "count = 0\n",
    "# Loop through each character in the string\n",
    "for char in string:\n",
    "    if (char in vowels):\n",
    "        count += 1\n",
    "\n",
    "print(\"The number of vowels in the string is:\", count)\n"
   ]
  },
  {
   "cell_type": "code",
   "execution_count": null,
   "id": "5ffed5e8",
   "metadata": {},
   "outputs": [],
   "source": []
  }
 ],
 "metadata": {
  "kernelspec": {
   "display_name": "Python 3 (ipykernel)",
   "language": "python",
   "name": "python3"
  },
  "language_info": {
   "codemirror_mode": {
    "name": "ipython",
    "version": 3
   },
   "file_extension": ".py",
   "mimetype": "text/x-python",
   "name": "python",
   "nbconvert_exporter": "python",
   "pygments_lexer": "ipython3",
   "version": "3.9.13"
  }
 },
 "nbformat": 4,
 "nbformat_minor": 5
}
