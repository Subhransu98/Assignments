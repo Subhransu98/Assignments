{
 "cells": [
  {
   "cell_type": "markdown",
   "id": "17f53b76",
   "metadata": {},
   "source": [
    "1) Who Developed programming Language ?\n",
    "Ans) Python was created by Guido van Rossum and it was first released in 1991."
   ]
  },
  {
   "cell_type": "markdown",
   "id": "7892bc84",
   "metadata": {},
   "source": [
    "2) Which type of programming does python supports?\n",
    "Ans) Python supports Object-Oriented Programming (OOP) and Scripting."
   ]
  },
  {
   "cell_type": "markdown",
   "id": "eca0b295",
   "metadata": {},
   "source": [
    "3) Is python case sensitive while dealing with identifiers?\n",
    "Ans) Yes, Python is case sensitive when dealing with identifiers( variables, functions, and class names.It's a good practice to follow the convention of using lowercase letters and separating words in an identifier with an underscore to make your code more readable. ex: my_name."
   ]
  },
  {
   "cell_type": "markdown",
   "id": "ee805e39",
   "metadata": {},
   "source": [
    "4) What is correct extension of python file ?\n",
    "Ans) The correct file extension for a Python script is .py. This extension is used to indicate that the file is a Python script and should be executed using a Python interpreter."
   ]
  },
  {
   "cell_type": "markdown",
   "id": "76b555ea",
   "metadata": {},
   "source": [
    "5) Is python code compiled or interpreted? \n",
    "Ans) Python is an interpreted language, which means that the source code is executed line by line,rather than being compiled into machine code and executed directly."
   ]
  },
  {
   "cell_type": "markdown",
   "id": "c8a3be53",
   "metadata": {},
   "source": [
    "6) Name a few blocks of code used to define in python language?\n",
    "Ans) \n",
    "i) Function definition: Functions are blocks of code that can be called by other parts of the program.Functions are defined using the def keyword, followed by the function name, arguments, and a colon.\n",
    "\n",
    "ii) Loop block: Loops allow you to repeat a block of code multiple times. In Python, you can use for  loops and while loops to define loop blocks.\n",
    "\n",
    "iii) Conditional block: In Python, you can use if statements to define conditional blocks.\n",
    "\n",
    "iv) Class definition: Classes are a way to define custom objects in Python. Classes are defined using the class keyword, followed by the class name and a colon.\n"
   ]
  },
  {
   "cell_type": "markdown",
   "id": "b34e6df7",
   "metadata": {},
   "source": [
    "7) State a character used to give single line of comments in python.\n",
    "Ans) In python # is used for commenting single line.\n",
    "     Example1 : # I am a singer.\n",
    "     \n"
   ]
  },
  {
   "cell_type": "markdown",
   "id": "a59a950d",
   "metadata": {},
   "source": [
    "8) Mention the function that is used to find  the version of python?\n",
    "Ans) To use this function for checking the version of the Python interpreter, we first have to import the platform library.The python_version() function always returns the version of an interpreter in the string format.\n",
    "\n"
   ]
  },
  {
   "cell_type": "markdown",
   "id": "6ecb8547",
   "metadata": {},
   "source": [
    "9) python supports creation of anonomous functions at runtime.using a connstruct called?\n",
    "Ans) The lambda keyword is used to create an anonymous.Lambda functions are often used when a simple \n",
    "function is needed for a short period of time and does not need to be reused elsewhere in the code.\n"
   ]
  },
  {
   "cell_type": "markdown",
   "id": "f4428e16",
   "metadata": {},
   "source": [
    "10) What does pip  Stands for python?\n",
    "Ans) PIP stands for \"Pip Installs Packages\" and is a package manager for Python. It is used to manage and install packages and libraries for use in your Python projects.you can install, upgrade, and remove packages easily and efficiently. "
   ]
  },
  {
   "cell_type": "markdown",
   "id": "4221209a",
   "metadata": {},
   "source": [
    "11) Mention few builtin functions in python?\n",
    "Ans) \n",
    "len(): This function returns the length of a list, string, or other iterable object.\n",
    "int(): This function converts a string or a float into an integer.\n",
    "float(): This function converts a string or an integer into a float. \n",
    "print(): This function is used to output text or data to the console."
   ]
  },
  {
   "cell_type": "markdown",
   "id": "ab155589",
   "metadata": {},
   "source": [
    "12) What is the maximum possible length of an identifier in python?\n",
    "Ans) An identifier can have a maximum length of 79 characters in Python."
   ]
  },
  {
   "cell_type": "markdown",
   "id": "e515f27d",
   "metadata": {},
   "source": [
    "13) What are the benifits of using python?\n",
    "Ans) Easy to Learn and Use,Large Standard Library,Open Source, Cross-Platform Compatibility, and moreover versatile i.e, can be used for a wide range of tasks, including web development, data analysis, artificial intelligence,and more."
   ]
  },
  {
   "cell_type": "markdown",
   "id": "3658a79a",
   "metadata": {},
   "source": [
    "14) How is memory managed in python?\n",
    "Ans) Memory management in Python is automatic and handled by the Python interpreter itself. Python uses \n",
    "a memory manager to allocate and deallocate memory for objects, as well as to manage memory used by the\n",
    "interpreter itself."
   ]
  },
  {
   "cell_type": "markdown",
   "id": "c645e807",
   "metadata": {},
   "source": [
    "15) How to install python on windows and set path variable?\n",
    "Ans) To install Python on Windows, follow these steps:\n",
    "\n",
    "Visit the official Python website (python.org) and download the latest version of Python for Windows.\n",
    "Double-click the downloaded file and follow the instructions to install Python on your computer. Make sure to check the option to add Python to the PATH environment variable during the installation process.\n",
    "\n",
    "After the installation is complete, open the Command Prompt and type \"python\" to verify that Python has been successfully installed and the PATH environment variable has been set. You should see the Python REPL, where you can type and run Python commands.\n",
    "\n",
    "Steps to be followed 16:\n",
    "1)Right-click the Start button and select System.\n",
    "2)Click on Advanced system settings.\n",
    "3)In the System Properties window, click on the Advanced tab.\n",
    "4)Click on the Environment Variables button.\n",
    "5)In the Environment Variables window, scroll down to the System variables section and find the PATH variable.\n",
    "6)Click on the PATH variable to select it and then click on the Edit button.\n",
    "7)Add the path to your Python installation to the PATH variable. For example, if you installed Python at \"C:\\Python38\", you would add \"C:\\Python38\" to the PATH.\n",
    "8)Close the Environment Variables window and the System Properties window.\n",
    "\n",
    "Open a new Command Prompt and type \"python\" to verify that the PATH environment variable has been set correctly."
   ]
  },
  {
   "cell_type": "markdown",
   "id": "9e9e2c82",
   "metadata": {},
   "source": [
    "16) Is indentation required in python?\n",
    "Ans) Yes,Python indentation is a way of telling the Python interpreter that a series of statements belong to a particular block of code. "
   ]
  }
 ],
 "metadata": {
  "kernelspec": {
   "display_name": "Python 3 (ipykernel)",
   "language": "python",
   "name": "python3"
  },
  "language_info": {
   "codemirror_mode": {
    "name": "ipython",
    "version": 3
   },
   "file_extension": ".py",
   "mimetype": "text/x-python",
   "name": "python",
   "nbconvert_exporter": "python",
   "pygments_lexer": "ipython3",
   "version": "3.9.13"
  }
 },
 "nbformat": 4,
 "nbformat_minor": 5
}
